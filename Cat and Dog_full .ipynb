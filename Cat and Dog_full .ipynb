{
 "cells": [
  {
   "cell_type": "code",
   "execution_count": 1,
   "id": "3e8884c3",
   "metadata": {},
   "outputs": [],
   "source": [
    "import tensorflow as tf\n",
    "from keras.preprocessing.image import ImageDataGenerator\n",
    "import warnings\n",
    "warnings.filterwarnings('ignore')"
   ]
  },
  {
   "cell_type": "code",
   "execution_count": 2,
   "id": "6beed592",
   "metadata": {},
   "outputs": [
    {
     "name": "stdout",
     "output_type": "stream",
     "text": [
      "Found 557 images belonging to 2 classes.\n"
     ]
    }
   ],
   "source": [
    "train_datagen = ImageDataGenerator(rescale = 1./255,\n",
    "                                  shear_range = 0.2,\n",
    "                                  zoom_range = 0.2,\n",
    "                                  horizontal_flip = True)\n",
    "train_set =  train_datagen.flow_from_directory('D:/cat and dog/train',\n",
    "                                              target_size= (128,128),\n",
    "                                              batch_size= 32,\n",
    "                                              class_mode = 'binary')"
   ]
  },
  {
   "cell_type": "code",
   "execution_count": 3,
   "id": "372a5804",
   "metadata": {},
   "outputs": [
    {
     "name": "stdout",
     "output_type": "stream",
     "text": [
      "Found 140 images belonging to 2 classes.\n"
     ]
    }
   ],
   "source": [
    "test_datagen = ImageDataGenerator(rescale = 1./255,\n",
    "                                  shear_range = 0.2,\n",
    "                                  zoom_range = 0.2,\n",
    "                                  horizontal_flip = True)\n",
    "test_set =  test_datagen.flow_from_directory('D:/cat and dog/test',\n",
    "                                              target_size= (128,128),\n",
    "                                              batch_size= 32,\n",
    "                                              class_mode = 'binary')"
   ]
  },
  {
   "cell_type": "code",
   "execution_count": 4,
   "id": "48e168c0",
   "metadata": {},
   "outputs": [],
   "source": [
    "cnn = tf.keras.models.Sequential()"
   ]
  },
  {
   "cell_type": "markdown",
   "id": "62e952d6",
   "metadata": {},
   "source": [
    "FIRST LAYER\n"
   ]
  },
  {
   "cell_type": "code",
   "execution_count": 5,
   "id": "97c07495",
   "metadata": {},
   "outputs": [],
   "source": [
    "cnn.add(tf.keras.layers.Conv2D(filters=32,kernel_size=3,activation='relu',\n",
    "                               input_shape=[128,128,3]))"
   ]
  },
  {
   "cell_type": "markdown",
   "id": "4a35532c",
   "metadata": {},
   "source": [
    "Pooling "
   ]
  },
  {
   "cell_type": "code",
   "execution_count": 6,
   "id": "e091ff82",
   "metadata": {},
   "outputs": [],
   "source": [
    "cnn.add(tf.keras.layers.MaxPool2D(pool_size=2,strides=2))"
   ]
  },
  {
   "cell_type": "markdown",
   "id": "7b747371",
   "metadata": {},
   "source": [
    "SECOND LAYER"
   ]
  },
  {
   "cell_type": "code",
   "execution_count": 7,
   "id": "ea17f9fc",
   "metadata": {},
   "outputs": [],
   "source": [
    "cnn.add(tf.keras.layers.Conv2D(filters=32,kernel_size=3,activation='relu',\n",
    "                               input_shape=[128,128,3]))\n",
    "cnn.add(tf.keras.layers.MaxPool2D(pool_size=2,strides=2))"
   ]
  },
  {
   "cell_type": "markdown",
   "id": "55e4c86a",
   "metadata": {},
   "source": [
    "Flatting"
   ]
  },
  {
   "cell_type": "code",
   "execution_count": 8,
   "id": "5ed97f9b",
   "metadata": {},
   "outputs": [],
   "source": [
    "cnn.add(tf.keras.layers.Flatten())"
   ]
  },
  {
   "cell_type": "markdown",
   "id": "be8aa196",
   "metadata": {},
   "source": [
    "Full connection"
   ]
  },
  {
   "cell_type": "code",
   "execution_count": 9,
   "id": "5c45aee0",
   "metadata": {},
   "outputs": [],
   "source": [
    "cnn.add(tf.keras.layers.Dense(units=128,activation= 'relu'))"
   ]
  },
  {
   "cell_type": "markdown",
   "id": "6ee0a473",
   "metadata": {},
   "source": [
    "Output Layer"
   ]
  },
  {
   "cell_type": "code",
   "execution_count": 10,
   "id": "ca35a471",
   "metadata": {},
   "outputs": [],
   "source": [
    "cnn.add(tf.keras.layers.Dense(units=1,activation='sigmoid'))"
   ]
  },
  {
   "cell_type": "code",
   "execution_count": 11,
   "id": "af19f36d",
   "metadata": {},
   "outputs": [
    {
     "name": "stdout",
     "output_type": "stream",
     "text": [
      "Model: \"sequential\"\n",
      "_________________________________________________________________\n",
      " Layer (type)                Output Shape              Param #   \n",
      "=================================================================\n",
      " conv2d (Conv2D)             (None, 126, 126, 32)      896       \n",
      "                                                                 \n",
      " max_pooling2d (MaxPooling2D  (None, 63, 63, 32)       0         \n",
      " )                                                               \n",
      "                                                                 \n",
      " conv2d_1 (Conv2D)           (None, 61, 61, 32)        9248      \n",
      "                                                                 \n",
      " max_pooling2d_1 (MaxPooling  (None, 30, 30, 32)       0         \n",
      " 2D)                                                             \n",
      "                                                                 \n",
      " flatten (Flatten)           (None, 28800)             0         \n",
      "                                                                 \n",
      " dense (Dense)               (None, 128)               3686528   \n",
      "                                                                 \n",
      " dense_1 (Dense)             (None, 1)                 129       \n",
      "                                                                 \n",
      "=================================================================\n",
      "Total params: 3,696,801\n",
      "Trainable params: 3,696,801\n",
      "Non-trainable params: 0\n",
      "_________________________________________________________________\n"
     ]
    }
   ],
   "source": [
    "cnn.summary()"
   ]
  },
  {
   "cell_type": "markdown",
   "id": "28ea2bf7",
   "metadata": {},
   "source": [
    "Training the CNN"
   ]
  },
  {
   "cell_type": "code",
   "execution_count": 12,
   "id": "7bc7c062",
   "metadata": {},
   "outputs": [],
   "source": [
    "cnn.compile(optimizer='adam',loss='binary_crossentropy',metrics=['accuracy'])"
   ]
  },
  {
   "cell_type": "code",
   "execution_count": 13,
   "id": "f00a15bc",
   "metadata": {},
   "outputs": [
    {
     "name": "stdout",
     "output_type": "stream",
     "text": [
      "Epoch 1/25\n",
      "18/18 [==============================] - 18s 919ms/step - loss: 0.9851 - accuracy: 0.4973 - val_loss: 0.6936 - val_accuracy: 0.5000\n",
      "Epoch 2/25\n",
      "18/18 [==============================] - 14s 761ms/step - loss: 0.6925 - accuracy: 0.5171 - val_loss: 0.6945 - val_accuracy: 0.5000\n",
      "Epoch 3/25\n",
      "18/18 [==============================] - 14s 760ms/step - loss: 0.6960 - accuracy: 0.5458 - val_loss: 0.6928 - val_accuracy: 0.5500\n",
      "Epoch 4/25\n",
      "18/18 [==============================] - 15s 834ms/step - loss: 0.6922 - accuracy: 0.5673 - val_loss: 0.6925 - val_accuracy: 0.5500\n",
      "Epoch 5/25\n",
      "18/18 [==============================] - 15s 809ms/step - loss: 0.6889 - accuracy: 0.5727 - val_loss: 0.6831 - val_accuracy: 0.5714\n",
      "Epoch 6/25\n",
      "18/18 [==============================] - 15s 826ms/step - loss: 0.6723 - accuracy: 0.5853 - val_loss: 0.6609 - val_accuracy: 0.6500\n",
      "Epoch 7/25\n",
      "18/18 [==============================] - 15s 826ms/step - loss: 0.6591 - accuracy: 0.6014 - val_loss: 0.6855 - val_accuracy: 0.6357\n",
      "Epoch 8/25\n",
      "18/18 [==============================] - 14s 809ms/step - loss: 0.6253 - accuracy: 0.6463 - val_loss: 0.6668 - val_accuracy: 0.6500\n",
      "Epoch 9/25\n",
      "18/18 [==============================] - 15s 819ms/step - loss: 0.6065 - accuracy: 0.6589 - val_loss: 0.7090 - val_accuracy: 0.6357\n",
      "Epoch 10/25\n",
      "18/18 [==============================] - 15s 839ms/step - loss: 0.5928 - accuracy: 0.6750 - val_loss: 0.7167 - val_accuracy: 0.6000\n",
      "Epoch 11/25\n",
      "18/18 [==============================] - 15s 813ms/step - loss: 0.5739 - accuracy: 0.7074 - val_loss: 0.6659 - val_accuracy: 0.6643\n",
      "Epoch 12/25\n",
      "18/18 [==============================] - 15s 817ms/step - loss: 0.5297 - accuracy: 0.7199 - val_loss: 0.7874 - val_accuracy: 0.6786\n",
      "Epoch 13/25\n",
      "18/18 [==============================] - 15s 840ms/step - loss: 0.5108 - accuracy: 0.7522 - val_loss: 0.6802 - val_accuracy: 0.6571\n",
      "Epoch 14/25\n",
      "18/18 [==============================] - 15s 819ms/step - loss: 0.4681 - accuracy: 0.7684 - val_loss: 0.6450 - val_accuracy: 0.6714\n",
      "Epoch 15/25\n",
      "18/18 [==============================] - 15s 821ms/step - loss: 0.4464 - accuracy: 0.7810 - val_loss: 0.6856 - val_accuracy: 0.6500\n",
      "Epoch 16/25\n",
      "18/18 [==============================] - 15s 840ms/step - loss: 0.4180 - accuracy: 0.8097 - val_loss: 0.6419 - val_accuracy: 0.6643\n",
      "Epoch 17/25\n",
      "18/18 [==============================] - 15s 825ms/step - loss: 0.4083 - accuracy: 0.8097 - val_loss: 0.6073 - val_accuracy: 0.7071\n",
      "Epoch 18/25\n",
      "18/18 [==============================] - 15s 816ms/step - loss: 0.3699 - accuracy: 0.8223 - val_loss: 0.7501 - val_accuracy: 0.6786\n",
      "Epoch 19/25\n",
      "18/18 [==============================] - 15s 851ms/step - loss: 0.3188 - accuracy: 0.8582 - val_loss: 0.7415 - val_accuracy: 0.6500\n",
      "Epoch 20/25\n",
      "18/18 [==============================] - 15s 832ms/step - loss: 0.3267 - accuracy: 0.8671 - val_loss: 0.7044 - val_accuracy: 0.6929\n",
      "Epoch 21/25\n",
      "18/18 [==============================] - 15s 836ms/step - loss: 0.2964 - accuracy: 0.8600 - val_loss: 0.6533 - val_accuracy: 0.7214\n",
      "Epoch 22/25\n",
      "18/18 [==============================] - 15s 826ms/step - loss: 0.2598 - accuracy: 0.8923 - val_loss: 0.7173 - val_accuracy: 0.6786\n",
      "Epoch 23/25\n",
      "18/18 [==============================] - 15s 831ms/step - loss: 0.2437 - accuracy: 0.8851 - val_loss: 0.7125 - val_accuracy: 0.7143\n",
      "Epoch 24/25\n",
      "18/18 [==============================] - 15s 833ms/step - loss: 0.2272 - accuracy: 0.9102 - val_loss: 0.8137 - val_accuracy: 0.6357\n",
      "Epoch 25/25\n",
      "18/18 [==============================] - 15s 812ms/step - loss: 0.1996 - accuracy: 0.9084 - val_loss: 0.7461 - val_accuracy: 0.7429\n"
     ]
    },
    {
     "data": {
      "text/plain": [
       "<keras.callbacks.History at 0x16cbfe55070>"
      ]
     },
     "execution_count": 13,
     "metadata": {},
     "output_type": "execute_result"
    }
   ],
   "source": [
    "cnn.fit(x = train_set,validation_data = test_set,epochs=25)"
   ]
  },
  {
   "cell_type": "code",
   "execution_count": 14,
   "id": "ce17d64b",
   "metadata": {},
   "outputs": [],
   "source": [
    "import numpy as np\n",
    "from keras.preprocessing import image\n",
    "test_image = tf.keras.utils.load_img('D:\\cat and dog/test/cats/cat_56.jpg',\n",
    "                           target_size=(128,128))"
   ]
  },
  {
   "cell_type": "code",
   "execution_count": 15,
   "id": "f70f6049",
   "metadata": {},
   "outputs": [
    {
     "data": {
      "image/png": "[encoded data removed]",
      "text/plain": [
       "<PIL.Image.Image image mode=RGB size=128x128>"
      ]
     },
     "execution_count": 15,
     "metadata": {},
     "output_type": "execute_result"
    }
   ],
   "source": [
    "test_image"
   ]
  },
  {
   "cell_type": "code",
   "execution_count": 16,
   "id": "1eda08ab",
   "metadata": {},
   "outputs": [
    {
     "data": {
      "text/plain": [
       "array([[[108.,  73.,  54.],\n",
       "        [112.,  77.,  58.],\n",
       "        [114.,  79.,  60.],\n",
       "        ...,\n",
       "        [190., 183., 154.],\n",
       "        [201., 195., 171.],\n",
       "        [207., 205., 180.]],\n",
       "\n",
       "       [[114.,  79.,  59.],\n",
       "        [118.,  83.,  63.],\n",
       "        [120.,  85.,  65.],\n",
       "        ...,\n",
       "        [177., 171., 135.],\n",
       "        [193., 188., 158.],\n",
       "        [196., 189., 161.]],\n",
       "\n",
       "       [[118.,  84.,  59.],\n",
       "        [123.,  89.,  64.],\n",
       "        [125.,  91.,  66.],\n",
       "        ...,\n",
       "        [158., 153., 111.],\n",
       "        [177., 174., 133.],\n",
       "        [189., 183., 147.]],\n",
       "\n",
       "       ...,\n",
       "\n",
       "       [[ 27.,  23.,  24.],\n",
       "        [ 33.,  29.,  30.],\n",
       "        [ 40.,  36.,  37.],\n",
       "        ...,\n",
       "        [ 33.,  33.,  35.],\n",
       "        [ 33.,  33.,  35.],\n",
       "        [ 41.,  41.,  41.]],\n",
       "\n",
       "       [[ 44.,  43.,  39.],\n",
       "        [ 55.,  51.,  48.],\n",
       "        [ 67.,  62.,  59.],\n",
       "        ...,\n",
       "        [ 98.,  98.,  98.],\n",
       "        [101., 101., 101.],\n",
       "        [110., 110., 112.]],\n",
       "\n",
       "       [[ 53.,  50.,  45.],\n",
       "        [ 79.,  74.,  70.],\n",
       "        [ 93.,  85.,  82.],\n",
       "        ...,\n",
       "        [ 41.,  41.,  41.],\n",
       "        [ 36.,  36.,  36.],\n",
       "        [ 40.,  40.,  42.]]], dtype=float32)"
      ]
     },
     "execution_count": 16,
     "metadata": {},
     "output_type": "execute_result"
    }
   ],
   "source": [
    "tf.keras.utils.img_to_array(test_image)"
   ]
  },
  {
   "cell_type": "code",
   "execution_count": 17,
   "id": "174a62f5",
   "metadata": {},
   "outputs": [
    {
     "data": {
      "text/plain": [
       "array([[[[108,  73,  54],\n",
       "         [112,  77,  58],\n",
       "         [114,  79,  60],\n",
       "         ...,\n",
       "         [190, 183, 154],\n",
       "         [201, 195, 171],\n",
       "         [207, 205, 180]],\n",
       "\n",
       "        [[114,  79,  59],\n",
       "         [118,  83,  63],\n",
       "         [120,  85,  65],\n",
       "         ...,\n",
       "         [177, 171, 135],\n",
       "         [193, 188, 158],\n",
       "         [196, 189, 161]],\n",
       "\n",
       "        [[118,  84,  59],\n",
       "         [123,  89,  64],\n",
       "         [125,  91,  66],\n",
       "         ...,\n",
       "         [158, 153, 111],\n",
       "         [177, 174, 133],\n",
       "         [189, 183, 147]],\n",
       "\n",
       "        ...,\n",
       "\n",
       "        [[ 27,  23,  24],\n",
       "         [ 33,  29,  30],\n",
       "         [ 40,  36,  37],\n",
       "         ...,\n",
       "         [ 33,  33,  35],\n",
       "         [ 33,  33,  35],\n",
       "         [ 41,  41,  41]],\n",
       "\n",
       "        [[ 44,  43,  39],\n",
       "         [ 55,  51,  48],\n",
       "         [ 67,  62,  59],\n",
       "         ...,\n",
       "         [ 98,  98,  98],\n",
       "         [101, 101, 101],\n",
       "         [110, 110, 112]],\n",
       "\n",
       "        [[ 53,  50,  45],\n",
       "         [ 79,  74,  70],\n",
       "         [ 93,  85,  82],\n",
       "         ...,\n",
       "         [ 41,  41,  41],\n",
       "         [ 36,  36,  36],\n",
       "         [ 40,  40,  42]]]], dtype=uint8)"
      ]
     },
     "execution_count": 17,
     "metadata": {},
     "output_type": "execute_result"
    }
   ],
   "source": [
    "test_image= np.expand_dims(test_image,axis=0)\n",
    "test_image"
   ]
  },
  {
   "cell_type": "code",
   "execution_count": 18,
   "id": "9fee56af",
   "metadata": {},
   "outputs": [
    {
     "name": "stdout",
     "output_type": "stream",
     "text": [
      "1/1 [==============================] - 0s 104ms/step\n"
     ]
    },
    {
     "data": {
      "text/plain": [
       "array([[0.]], dtype=float32)"
      ]
     },
     "execution_count": 18,
     "metadata": {},
     "output_type": "execute_result"
    }
   ],
   "source": [
    "result = cnn.predict(test_image)\n",
    "result"
   ]
  },
  {
   "cell_type": "code",
   "execution_count": 29,
   "id": "abbd9f71",
   "metadata": {},
   "outputs": [],
   "source": [
    "if result[0][0] == 1:\n",
    "    prediction = 'dog'\n",
    "\n",
    "else:\n",
    "    prediction = 'cat'"
   ]
  },
  {
   "cell_type": "code",
   "execution_count": 30,
   "id": "77c44b7f",
   "metadata": {},
   "outputs": [
    {
     "name": "stdout",
     "output_type": "stream",
     "text": [
      "cat\n"
     ]
    }
   ],
   "source": [
    "print(prediction)"
   ]
  },
  {
   "cell_type": "code",
   "execution_count": null,
   "id": "90b48179",
   "metadata": {},
   "outputs": [],
   "source": []
  },
  {
   "cell_type": "code",
   "execution_count": null,
   "id": "10777aae",
   "metadata": {},
   "outputs": [],
   "source": []
  },
  {
   "cell_type": "code",
   "execution_count": null,
   "id": "7f984dd7",
   "metadata": {},
   "outputs": [],
   "source": []
  },
  {
   "cell_type": "code",
   "execution_count": null,
   "id": "d7665157",
   "metadata": {},
   "outputs": [],
   "source": []
  }
 ],
 "metadata": {
  "kernelspec": {
   "display_name": "Python 3 (ipykernel)",
   "language": "python",
   "name": "python3"
  },
  "language_info": {
   "codemirror_mode": {
    "name": "ipython",
    "version": 3
   },
   "file_extension": ".py",
   "mimetype": "text/x-python",
   "name": "python",
   "nbconvert_exporter": "python",
   "pygments_lexer": "ipython3",
   "version": "3.9.13"
  }
 },
 "nbformat": 4,
 "nbformat_minor": 5
}
